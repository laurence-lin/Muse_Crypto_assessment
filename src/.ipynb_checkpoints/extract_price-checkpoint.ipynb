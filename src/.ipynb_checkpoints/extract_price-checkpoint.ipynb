{
 "cells": [
  {
   "cell_type": "code",
   "execution_count": 6,
   "id": "9e55f165-bd1c-4cef-9009-2f531f8e3b9d",
   "metadata": {},
   "outputs": [],
   "source": [
    "import requests\n",
    "\n",
    "invest_url = \"https://www.investing.com/crypto\"\n",
    "raw = requests.get(invest_url)\n",
    "\n"
   ]
  },
  {
   "cell_type": "code",
   "execution_count": 15,
   "id": "99621de9-2dac-4680-a5a3-422514a8ce9a",
   "metadata": {},
   "outputs": [],
   "source": [
    "url = \"https://coinmarketcap.com/\"\n",
    "headers = {\n",
    "        \"User-Agent\": \"Mozilla/5.0 (Windows NT 10.0; Win64; x64) AppleWebKit/537.36 (KHTML, like Gecko) Chrome/91.0.4472.124 Safari/537.36\"\n",
    "}\n",
    "\n",
    "response = requests.get(url, headers=headers)\n",
    "response.raise_for_status()  # Raise HTTPError for bad responses\n",
    "\n",
    "soup = BeautifulSoup(response.content, \"html.parser\")\n",
    "\n",
    "table = soup.find(\"tbody\") #Updated Class Name\n"
   ]
  },
  {
   "cell_type": "code",
   "execution_count": 42,
   "id": "bd48c642-dc5d-4c0d-9264-36b1510b832f",
   "metadata": {},
   "outputs": [
    {
     "name": "stdout",
     "output_type": "stream",
     "text": [
      "Bitcoin\n"
     ]
    },
    {
     "ename": "TypeError",
     "evalue": "'NoneType' object is not callable",
     "output_type": "error",
     "traceback": [
      "\u001b[0;31m---------------------------------------------------------------------------\u001b[0m",
      "\u001b[0;31mTypeError\u001b[0m                                 Traceback (most recent call last)",
      "Cell \u001b[0;32mIn[42], line 10\u001b[0m\n\u001b[1;32m      7\u001b[0m \u001b[38;5;28mprint\u001b[39m( name_cell\u001b[38;5;241m.\u001b[39mtext\u001b[38;5;241m.\u001b[39mstrip() )\n\u001b[1;32m      9\u001b[0m change_1h_cell \u001b[38;5;241m=\u001b[39m cells[\u001b[38;5;241m4\u001b[39m]\u001b[38;5;241m.\u001b[39mfind(\u001b[38;5;124m'\u001b[39m\u001b[38;5;124mspan\u001b[39m\u001b[38;5;124m'\u001b[39m)\n\u001b[0;32m---> 10\u001b[0m change_attr \u001b[38;5;241m=\u001b[39m \u001b[43mchange_1h_cell\u001b[49m\u001b[38;5;241;43m.\u001b[39;49m\u001b[43mget_attribute\u001b[49m\u001b[43m(\u001b[49m\u001b[38;5;124;43m'\u001b[39;49m\u001b[38;5;124;43mclass\u001b[39;49m\u001b[38;5;124;43m'\u001b[39;49m\u001b[43m)\u001b[49m\n\u001b[1;32m     11\u001b[0m change_1h \u001b[38;5;241m=\u001b[39m change_1h_cell\u001b[38;5;241m.\u001b[39mtext\u001b[38;5;241m.\u001b[39mstrip() \u001b[38;5;28;01mif\u001b[39;00m change_1h_cell \u001b[38;5;28;01melse\u001b[39;00m \u001b[38;5;124m\"\u001b[39m\u001b[38;5;124mN/A\u001b[39m\u001b[38;5;124m\"\u001b[39m\n\u001b[1;32m     12\u001b[0m \u001b[38;5;28mprint\u001b[39m(\u001b[38;5;124m\"\u001b[39m\u001b[38;5;124mchange_1h:\u001b[39m\u001b[38;5;124m\"\u001b[39m, change_1h)\n",
      "\u001b[0;31mTypeError\u001b[0m: 'NoneType' object is not callable"
     ]
    }
   ],
   "source": [
    "\n",
    "\n",
    "rows = table.find_all(\"tr\")[:10]\n",
    "\n",
    "row = rows[0]\n",
    "\n",
    "cells = row.find_all(\"td\")\n",
    "name_cell = cells[2].find('p')\n",
    "print( name_cell.text.strip() )\n",
    "\n",
    "change_1h_cell = cells[4].find('span')\n",
    "change_attr = change_1h_cell.get_attribute('class')\n",
    "change_1h = change_1h_cell.text.strip() if change_1h_cell else \"N/A\"\n",
    "print(\"change_1h:\", change_1h)\n",
    "\n",
    "if change_1h:\n",
    "    if change_attr.endswith('down'):\n",
    "            change_1h *= -1\n"
   ]
  },
  {
   "cell_type": "code",
   "execution_count": 51,
   "id": "404d27c8-30f1-40a4-940f-0e3dae4c4cd7",
   "metadata": {},
   "outputs": [
    {
     "data": {
      "text/plain": [
       "<span class=\"sc-a59753b0-0 ivvJzO\"><span class=\"icon-Caret-down\" style=\"width:12px;height:18px;display:inline-block\"></span>0.10%</span>"
      ]
     },
     "execution_count": 51,
     "metadata": {},
     "output_type": "execute_result"
    }
   ],
   "source": [
    "change_1h_cell"
   ]
  },
  {
   "cell_type": "code",
   "execution_count": 58,
   "id": "12807893-c982-4731-b397-2f1dae9845eb",
   "metadata": {},
   "outputs": [
    {
     "data": {
      "text/plain": [
       "'<span class=\"icon-Caret-down\" style=\"width:12px;height:18px;display:inline-block\"></span>'"
      ]
     },
     "execution_count": 58,
     "metadata": {},
     "output_type": "execute_result"
    }
   ],
   "source": [
    "str(inner_span[0])"
   ]
  },
  {
   "cell_type": "code",
   "execution_count": 59,
   "id": "bcb0c5ac-ad43-49c5-8120-6e1376337605",
   "metadata": {},
   "outputs": [
    {
     "name": "stdout",
     "output_type": "stream",
     "text": [
      "Negative!\n"
     ]
    }
   ],
   "source": [
    "inner_span = change_1h_cell.find_all('span', class_=['icon-Caret-down', 'icon-Caret-up'])\n",
    "if 'icon-Caret-down' in str(inner_span[0]):\n",
    "    print(\"Negative!\")\n"
   ]
  },
  {
   "cell_type": "code",
   "execution_count": 76,
   "id": "5aa91bb4-a077-4b57-ae70-2627dbc17da3",
   "metadata": {},
   "outputs": [],
   "source": [
    "import requests\n",
    "from bs4 import BeautifulSoup\n",
    "\n",
    "def scrape_coinmarketcap_top10():\n",
    "    url = \"https://coinmarketcap.com/\"\n",
    "    \n",
    "    try:\n",
    "        response = requests.get(url)\n",
    "        response.raise_for_status()  # Raise HTTPError for bad responses\n",
    "\n",
    "        soup = BeautifulSoup(response.content, \"html.parser\")\n",
    "        #sc-936354b2-3 tLXcG cmc-table\n",
    "        table = soup.find(\"tbody\") #Updated Class Name\n",
    "        if not table:\n",
    "            print(\"Table not found.\")\n",
    "            return None\n",
    "\n",
    "        rows = table.find_all(\"tr\")[:10]  # Updated Class Name, and limit to top 10 rows.\n",
    "\n",
    "        crypto_data = []\n",
    "        for row in rows:\n",
    "            cells = row.find_all(\"td\")\n",
    "            if len(cells) >= 7:  # Ensure enough cells are present\n",
    "                name_cell = cells[2].find('p') #Updated class name.\n",
    "                name = name_cell.text.strip() if name_cell else \"N/A\"\n",
    "                price_cell = cells[3].find('span')\n",
    "                price = price_cell.text.strip() if price_cell else \"N/A\"\n",
    "                change_1h_cell = cells[4].find('span')\n",
    "                change_1h = change_1h_cell.text.strip() if change_1h_cell else \"N/A\"\n",
    "                #print(\"change_1h: \", change_1h)\n",
    "                if change_1h_cell:\n",
    "                    change_attr = change_1h_cell.find_all('span', class_=['icon-Caret-down', 'icon-Caret-up']) # Get up or down: icon-Caret-up -> +, icon-Caret-down -> -\n",
    "                    #print(\"Change attr: \", str(change_attr[0]))\n",
    "                    if change_1h:\n",
    "                        if 'icon-Caret-down' in str(change_attr[0]):\n",
    "                            #print(\"Add negative! Original change_1h: \", change_1h)\n",
    "                            change_1h = \"-\" + change_1h\n",
    "                            #print(\"After addition: \", change_1h)\n",
    "                \n",
    "                volume_cell = cells[8].find('p', {'color':'text'}) #Updated class name\n",
    "                volume = volume_cell.text.strip() if volume_cell else \"N/A\"\n",
    "\n",
    "                crypto_data.append({\n",
    "                    \"Name\": name,\n",
    "                    \"Price\": price,\n",
    "                    \"1h%\": change_1h,\n",
    "                    \"Volume\": volume,\n",
    "                })\n",
    "\n",
    "        return crypto_data\n",
    "\n",
    "    except requests.exceptions.RequestException as e:\n",
    "        print(f\"Error during request: {e}\")\n",
    "        return None\n",
    "    except Exception as e:\n",
    "        print(f\"An error occurred: {e}\")\n",
    "        return None\n",
    "\n"
   ]
  },
  {
   "cell_type": "code",
   "execution_count": 77,
   "id": "23d11dfc-a986-4d8a-99d6-8f6baef30d9c",
   "metadata": {},
   "outputs": [
    {
     "name": "stdout",
     "output_type": "stream",
     "text": [
      "{'Name': 'Bitcoin', 'Price': '$96,215.57', '1h%': '-0.07%', 'Volume': '$15,610,146,003'}\n",
      "{'Name': 'Ethereum', 'Price': '$2,801.97', '1h%': '-0.30%', 'Volume': '$16,659,040,999'}\n",
      "{'Name': 'XRP', 'Price': '$2.57', '1h%': '-0.05%', 'Volume': '$2,286,836,282'}\n",
      "{'Name': 'Tether', 'Price': '$0.9999', '1h%': '-0.02%', 'Volume': '$53,579,367,734'}\n",
      "{'Name': 'BNB', 'Price': '$661.60', '1h%': '0.03%', 'Volume': '$1,846,215,604'}\n",
      "{'Name': 'Solana', 'Price': '$170.93', '1h%': '-0.26%', 'Volume': '$1,493,769,653'}\n",
      "{'Name': 'USDC', 'Price': '$0.9999', '1h%': '0.00%', 'Volume': '$5,231,836,257'}\n",
      "{'Name': 'Dogecoin', 'Price': '$0.2453', '1h%': '-0.10%', 'Volume': '$731,735,504'}\n",
      "{'Name': 'Cardano', 'Price': '$0.7763', '1h%': '-0.32%', 'Volume': '$492,068,868'}\n",
      "{'Name': 'TRON', 'Price': '$0.2418', '1h%': '-0.50%', 'Volume': '$429,310,720'}\n"
     ]
    }
   ],
   "source": [
    "\n",
    "data = scrape_coinmarketcap_top10()\n",
    "if data:\n",
    "        for item in data:\n",
    "            print(item)\n"
   ]
  },
  {
   "cell_type": "code",
   "execution_count": null,
   "id": "0c865eaa-57e9-4439-9563-cb26279b4225",
   "metadata": {},
   "outputs": [],
   "source": [
    "if __name__ == \"__main__\":\n",
    "    data = scrape_coinmarketcap_top10()\n",
    "    if data:\n",
    "        for item in data:\n",
    "            print(item)"
   ]
  }
 ],
 "metadata": {
  "kernelspec": {
   "display_name": "Python 3 (ipykernel)",
   "language": "python",
   "name": "python3"
  },
  "language_info": {
   "codemirror_mode": {
    "name": "ipython",
    "version": 3
   },
   "file_extension": ".py",
   "mimetype": "text/x-python",
   "name": "python",
   "nbconvert_exporter": "python",
   "pygments_lexer": "ipython3",
   "version": "3.10.12"
  }
 },
 "nbformat": 4,
 "nbformat_minor": 5
}
